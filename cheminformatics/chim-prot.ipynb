{
 "cells": [
  {
   "cell_type": "markdown",
   "metadata": {},
   "source": [
    "# Chimera scripts: protein analysis\n",
    "This <span style=\"color:rgba(255,100,0,1)\"><b>Jupyter</b></span> notebook generates scripts to visualize a protein of interest in UCSF Chimera. The `protein.pdb` file needs to be first loaded into Chimera and inspected for features, secondary structures, and residue IDs of interest. Also, to position the protein for the best view, find the `move x dist` and `turn x deg` y, z, coordinates. Note and write those down. Image of the representation at the end of the script is saved to ~/Desktop in png format (can be changed in customized txt file).\n",
    "\n",
    "\n",
    "Only a part of the script file is generated and a custom portion of the script is appended. Customize the script in files with extension *.txt and place this file to the ./Scripts directory.\n",
    "\n",
    "The notebook is written in <span style=\"color:rgba(20,84,181,1)\"><b>Python 3.6</b></span>.\n",
    "\n",
    "<span><br></span>"
   ]
  },
  {
   "cell_type": "code",
   "execution_count": 1,
   "metadata": {
    "code_folding": [
     0
    ]
   },
   "outputs": [
    {
     "data": {
      "application/vnd.jupyter.widget-view+json": {
       "model_id": "5cae4d0f0e404741ad54c86b11426b8c",
       "version_major": 2,
       "version_minor": 0
      },
      "text/plain": [
       "HTML(value=\"<div style='margin: 20px 20px;color: #3387CC;font-size: 1.6em'><b>Choose DATA path from the pull-d…"
      ]
     },
     "metadata": {},
     "output_type": "display_data"
    },
    {
     "data": {
      "application/vnd.jupyter.widget-view+json": {
       "model_id": "b22b5e83f6e4417f8ece32e0b953ed70",
       "version_major": 2,
       "version_minor": 0
      },
      "text/plain": [
       "Dropdown(description=' Data dir path :', options={\"Notebook's current folder\": WindowsPath('F:/_Jupyter/Chemoi…"
      ]
     },
     "metadata": {},
     "output_type": "display_data"
    },
    {
     "data": {
      "application/vnd.jupyter.widget-view+json": {
       "model_id": "70278354d0334c28a4025b04c4eebf7e",
       "version_major": 2,
       "version_minor": 0
      },
      "text/plain": [
       "Dropdown(description=' Main script dir:', options={'Fscripts': 'F:/Computation/Chimera/Scripts', 'datain': 'da…"
      ]
     },
     "metadata": {},
     "output_type": "display_data"
    }
   ],
   "source": [
    "# 1 Select folders for your data: \n",
    "\n",
    "# System\n",
    "import os\n",
    "import sys\n",
    "import os.path\n",
    "from pathlib import Path  # from Python 3.4 up\n",
    "\n",
    "# iPython\n",
    "import IPython\n",
    "from IPython.core.display import HTML\n",
    "from IPython.display import Image\n",
    "#----- Check ipywidgets\n",
    "from ipywidgets import widgets\n",
    "from ipywidgets import interact, interactive, fixed, Checkbox, Layout, VBox, HBox\n",
    "from IPython.display import display, Math, Latex, Markdown\n",
    "from IPython.display import Markdown as md\n",
    "\n",
    "# Locate _modules directory\n",
    "# p = Path(str(Path.cwd()))  # get the current path as a plain text\n",
    "p = Path.cwd()  # get the current path\n",
    "pa = widgets.Dropdown(\n",
    "    options={\n",
    "        'Notebook\\'s current folder': p,  # add other custom path\n",
    "    },\n",
    "    value=p,\n",
    "    description=' Data dir path :')\n",
    "\n",
    "hep = widgets.HTML(\n",
    "    value=\n",
    "    \"<div style='margin: 20px 20px;color: #3387CC;font-size: 1.6em'><b>Choose DATA path from the pull-down menu.</b> </div>\"\n",
    ")\n",
    "\n",
    "custpa = widgets.Dropdown(\n",
    "    options={\n",
    "        'Fscripts':\n",
    "        'F:/Computation/Chimera/Scripts',  # modify for your custom folder\n",
    "        'datain': 'datain',  # typically in the notebook's folder\n",
    "        'data': 'data'\n",
    "    },\n",
    "    value='F:/Computation/Chimera/Scripts',\n",
    "    description=' Main script dir:')\n",
    "\n",
    "hep = widgets.HTML(\n",
    "    value=\n",
    "    \"<div style='margin: 20px 20px;color: #3387CC;font-size: 1.6em'><b>Choose DATA path from the pull-down menu.</b> </div>\"\n",
    ")\n",
    "\n",
    "display(hep)\n",
    "display(pa)\n",
    "display(custpa)"
   ]
  },
  {
   "cell_type": "code",
   "execution_count": 5,
   "metadata": {
    "code_folding": [
     0
    ]
   },
   "outputs": [
    {
     "name": "stdout",
     "output_type": "stream",
     "text": [
      "Variable `start_folder` point to:     F:/_Jupyter/Chemoinformatics/Docking\n",
      "Variable `cust_folder` points to:           F:/Computation/Chimera/Scripts\n",
      "\n"
     ]
    }
   ],
   "source": [
    "# 2 Set path and data_folder directories. Assumes the root folder `_Jupyter` : \n",
    "\"\"\" All notebook folders are under the root _Jupyter directory. Under this directory are also\n",
    "folders `_css` and `modules`. The code finds the path to the _Jupyter directory and \n",
    "builds paths to different folders required for all notebooks.\n",
    "\"\"\"\n",
    "\n",
    "# Get the index of the _Jupyter folder higher in the directory tree\n",
    "index_up = [i for i, s in enumerate(p.parts) if '_Jupyter' in s]\n",
    "delta_up = len(p.parts) - index_up[0] - 2\n",
    "_jupyter = p.parents[delta_up]  # path to _Jupyter folder in the current tree\n",
    "\n",
    "modules = p.parents[delta_up].joinpath('_modules')  # path for _modules\n",
    "css = str(p.parents[delta_up].joinpath('_css'))  # path to _css\n",
    "sys.path.insert(1, str(modules))  # append _modules to path for easy imports\n",
    "\n",
    "# If reusing the notebook across OS systems\n",
    "if str(Path.home()) in str(pa.value):\n",
    "    start_folder = Path.cwd().replace('\\\\', '/')\n",
    "else:\n",
    "    start_folder = str(pa.value).replace('\\\\', '/')\n",
    "\n",
    "# Custom directory selected above\n",
    "cust_folder = custpa.value\n",
    "cust_dir = str(Path(cust_folder).resolve()).replace('\\\\', '/')\n",
    "\n",
    "print(\"Variable `start_folder` point to: {:>40}\".format(start_folder))\n",
    "print(\"Variable `cust_folder` points to: {:>40}\\n\".format(str(cust_dir)))"
   ]
  },
  {
   "cell_type": "code",
   "execution_count": 6,
   "metadata": {
    "code_folding": [
     0
    ]
   },
   "outputs": [
    {
     "data": {
      "text/html": [
       "<table><tr><td><img src='./imgs/protein-contacts.png' alt='contact area' style='width: 400px;'></td> <td><img src='./imgs/protein-surf-contact.png', style='width: 400px;'></td></tr></table>"
      ],
      "text/plain": [
       "<IPython.core.display.HTML object>"
      ]
     },
     "metadata": {},
     "output_type": "display_data"
    }
   ],
   "source": [
    "# Typical example of this notebook rendering \n",
    "\n",
    "display(\n",
    "    HTML(\n",
    "        \"<table><tr><td><img src='./imgs/protein-contacts.png' alt='contact area' style='width: 400px;'></td> <td><img src='./imgs/protein-surf-contact.png', style='width: 400px;'></td></tr></table>\"\n",
    "    ))"
   ]
  },
  {
   "cell_type": "code",
   "execution_count": 7,
   "metadata": {
    "code_folding": [
     0
    ]
   },
   "outputs": [],
   "source": [
    "#R 3 General imports and settings:  CONTINUE HERE \n",
    "\n",
    "# For time stamps\n",
    "import datetime\n",
    "\n",
    "#ANSI styling\n",
    "# use as: print(reset + background_red + \"Text\")\n",
    "bold = '\\033[1m'\n",
    "red = '\\n' + '\\033[31m'\n",
    "blue = '\\n' + \"\\033[94m\"\n",
    "green = '\\n' + \"\\033[32m\"\n",
    "normal = '\\n' + \"\\033[21m\" + \"\\033[30m\"\n",
    "underline = '\\n' + '\\033[4m'\n",
    "reset = '\\033[0m'\n",
    "background_blue = '\\n' + '\\033[38;2;255;255;0;48;2;0;0;255m'  #\\033[38;2 r g b text, #[48;2 r g b  background\n",
    "background_red = '\\n' + '\\033[38;2;255;255;255;48;2;198;0;0m'\n",
    "background_red = '\\n' + '\\033[38;2;255;255;255;48;2;198;0;0m'\n",
    "\n",
    "\n",
    "# Markdown and color printing\n",
    "def printc(string, color=None):\n",
    "    '''Use as:     printc(\"**bold and blue**\", color=\"blue\")\n",
    "    '''\n",
    "    colorstr = \"<span style='color:{}'>{}</span>\".format(color, string)\n",
    "    display(Markdown(colorstr))\n",
    "\n",
    "\n",
    "def printwc(string, var, c1=None, c2=None):\n",
    "    '''Use as:     printwc(\"**bold and blue**\", var, c1=\"blue\", c2=\"red\")\n",
    "    '''\n",
    "    colorstr = \"<span style='color:{}'>{}</span>\".format(\n",
    "        c1, string) + \"<span style='color:{}'>{}</span>\".format(c2, var)\n",
    "    display(Markdown(colorstr))\n",
    "\n",
    "\n",
    "def printmd(string):\n",
    "    ''' use as: printmd('**BOLD TEXT**')\n",
    "        equation_str = '$$c = \\sqrt{a^2 + b^2}$$'\n",
    "        printmd(f'Equation:\\n{equation_str}')\n",
    "    '''\n",
    "    display(Markdown(string))"
   ]
  },
  {
   "cell_type": "markdown",
   "metadata": {},
   "source": [
    "## Notebook Styling"
   ]
  },
  {
   "cell_type": "code",
   "execution_count": 8,
   "metadata": {
    "code_folding": [
     0
    ]
   },
   "outputs": [
    {
     "data": {
      "text/html": [
       "@import url(\"custom.css\");\n",
       "\n",
       "<link href='http://fonts.googleapis.com/css?family=Alegreya+Sans:100,300,400,500,700,800,900,100italic,300italic,400italic,500italic,700italic,800italic,900italic' rel='stylesheet' type='text/css'>\n",
       "<link href='https://fonts.googleapis.com/css?family=Lato:300,400,700,300italic,400italic,700italic' rel='stylesheet' type='text/css'>\n",
       "<link href='http://fonts.googleapis.com/css?family=Arvo:400,700,400italic' rel='stylesheet' type='text/css'>\n",
       "<link href='http://fonts.googleapis.com/css?family=PT+Mono' rel='stylesheet' type='text/css'>\n",
       "<link href='http://fonts.googleapis.com/css?family=Shadows+Into+Light' rel='stylesheet' type='text/css'>\n",
       "<link href='http://fonts.googleapis.com/css?family=Philosopher:400,700,400italic,700italic' rel='stylesheet' type='text/css'>\n",
       "\n",
       "<style>\n",
       "\n",
       "@font-face {\n",
       "    font-family: \"Computer Modern\";\n",
       "    src: url('http://mirrors.ctan.org/fonts/cm-unicode/fonts/otf/cmunss.otf');\n",
       "}\n",
       "\n",
       "em {\ttext-decoration: underline;\n",
       "\tcolor: rgba(136,0,34,0.8);\n",
       "}\n",
       "\n",
       "/*the width, font, and size of text in Markdown cells*/\n",
       "div.text_cell_render{\n",
       "/*    font-family: 'Arvo' sans-serif; */\n",
       "    font-family: 'Lato', sans-serif;\n",
       "    line-height: 130%;\n",
       "    font-size: 115%;\n",
       "/*    width:800px;  /* Divider line */\n",
       "/*    margin-left:auto;\n",
       "    margin-right:auto; \n",
       "*/\n",
       "}\n",
       "/* Formatting for header cells */\n",
       ".text_cell_render h1 {\n",
       "    font-family: 'Philosopher', sans-serif;\n",
       "    font-weight: 400;\n",
       "    font-size: 32pt;\n",
       "    line-height: 100%;\n",
       "    color: rgb(12,85,97);\n",
       "    margin-bottom: 0.1em;\n",
       "    margin-top: 0.1em;\n",
       "    display: block;\n",
       "}\n",
       ".text_cell_render h2 {\n",
       "    font-family: 'Philosopher', serif;\n",
       "    font-weight: 700;\n",
       "    font-size: 24pt;\n",
       "    line-height: 100%;\n",
       "    color: rgb(171,165,131);\n",
       "    margin-bottom: 0.1em;\n",
       "    margin-top: 0.1em;\n",
       "    display: block;\n",
       "}    \n",
       "\n",
       ".text_cell_render h3 {\n",
       "    font-family: 'Philosopher', serif;\n",
       "    margin-top:12px;\n",
       "    margin-bottom: 3px;\n",
       "    font-style: italic;\n",
       "    color: rgb(95,92,72);\n",
       "}\n",
       "\n",
       ".text_cell_render h4 {\n",
       "    font-family: 'Philosopher', serif;\n",
       "}\n",
       "\n",
       ".text_cell_render h5 {\n",
       "    font-family: 'Alegreya Sans', sans-serif;\n",
       "    font-weight: 300;\n",
       "    font-size: 16pt;\n",
       "    color: grey;\n",
       "    font-style: italic;\n",
       "    margin-bottom: .1em;\n",
       "    margin-top: 0.1em;\n",
       "    display: block;\n",
       "}\n",
       "\n",
       ".text_cell_render h6 {\n",
       "    font-family: 'PT Mono', sans-serif;\n",
       "    font-weight: 300;\n",
       "    font-size: 10pt;\n",
       "    color: grey;\n",
       "    margin-bottom: 1px;\n",
       "    margin-top: 1px;\n",
       "}\n",
       "\n",
       "div.output_area .rendered_html table {\n",
       "/*  margin: 20px auto 0 auto; */\n",
       "}\n",
       ".widget-select {\n",
       "    width: 500px;\n",
       "}\n",
       "code {\n",
       "\tpadding: 2px 4px;\n",
       "\tfont-size: 8pt;\n",
       "\t/*color: #c7254e!important;\n",
       "\tbackground-color: #f9f2f4!important;\n",
       "\tborder-radius: 4px;\n",
       "\tfont-family: Menlo,Monaco,Consolas,\"Courier New\",monospace;*/\n",
       "}\n",
       "pre,\n",
       "blockquote {\n",
       "    border: 1px solid #999;\n",
       "    page-break-inside: avoid;\n",
       "  }\n",
       ".indent {\n",
       "   text-indent: 50px;\n",
       "   margin-top: 30px!important;\n",
       "}\n",
       "/* Important to close style section in Jupyter notebook*/\n",
       "</style>"
      ],
      "text/plain": [
       "<IPython.core.display.HTML object>"
      ]
     },
     "execution_count": 8,
     "metadata": {},
     "output_type": "execute_result"
    }
   ],
   "source": [
    "# 2.0 Alternative Jupyter styling with table style reset and link to style sheet \n",
    "\n",
    "css_file = css + '/custom_ptt.css'\n",
    "HTML(open(css_file, \"r\").read())"
   ]
  },
  {
   "cell_type": "code",
   "execution_count": 9,
   "metadata": {
    "code_folding": [
     0
    ]
   },
   "outputs": [
    {
     "data": {
      "text/html": [
       "<style>\n",
       "body {\n",
       "    margin: 0;\n",
       "    font-family: Helvetica;\n",
       "}\n",
       ".widget-select {\n",
       "    width: 500px;\n",
       "}\n",
       ".widget-inline-hbox .widget-label {\n",
       "width: unset\n",
       "}\n",
       ".widget-textarea, .widget-text {\n",
       "    width: 500px;\n",
       "}\n",
       ".rendered_html table {\n",
       "font-size: 14px !important;\n",
       "font-family: monospace;\n",
       "}\n",
       "</style>"
      ],
      "text/plain": [
       "<IPython.core.display.HTML object>"
      ]
     },
     "execution_count": 9,
     "metadata": {},
     "output_type": "execute_result"
    }
   ],
   "source": [
    "#O 2.1 Styling ipywidgets \n",
    "\n",
    "\n",
    "CSS = \"\"\"\n",
    "body {\n",
    "    margin: 0;\n",
    "    font-family: Helvetica;\n",
    "}\n",
    ".widget-select {\n",
    "    width: 500px;\n",
    "}\n",
    ".widget-inline-hbox .widget-label {\n",
    "width: unset\n",
    "}\n",
    ".widget-textarea, .widget-text {\n",
    "    width: 500px;\n",
    "}\n",
    ".rendered_html table {\n",
    "font-size: 14px !important;\n",
    "font-family: monospace;\n",
    "}\n",
    "\"\"\"\n",
    "\n",
    "HTML('<style>{}</style>'.format(CSS))"
   ]
  },
  {
   "cell_type": "markdown",
   "metadata": {},
   "source": [
    "___"
   ]
  },
  {
   "cell_type": "markdown",
   "metadata": {},
   "source": [
    "<h3>Enter location of file directories <span class='label label-info'>FILE PATHS</span></h3>"
   ]
  },
  {
   "cell_type": "code",
   "execution_count": 10,
   "metadata": {
    "code_folding": [
     0
    ]
   },
   "outputs": [
    {
     "data": {
      "application/vnd.jupyter.widget-view+json": {
       "model_id": "5da6af5da3b3494ebafd5ec219e0c527",
       "version_major": 2,
       "version_minor": 0
      },
      "text/plain": [
       "Text(value='F:/Business/Clients/Client4/ACE2', description='Folder:', layout=Layout(width='600px'), placeholde…"
      ]
     },
     "metadata": {},
     "output_type": "display_data"
    }
   ],
   "source": [
    "# Path to project 'root_dir/' data directory \n",
    "#F:/Business/Clients/Client4/ACE2/\n",
    "#F:/Business/Clients/Client4/CD44_FERM/Computation/pep01_psar3_vina_smina/\n",
    "\n",
    "root_dir = widgets.Text(\n",
    "    value='F:/Business/Clients/Client4/ACE2',\n",
    "    placeholder='F:/Business/Clients/Client4/ACE2',\n",
    "    description='Folder:',\n",
    "    layout=Layout(width='600px'),\n",
    "    disabled=False)\n",
    "\n",
    "display(root_dir)"
   ]
  },
  {
   "cell_type": "code",
   "execution_count": 11,
   "metadata": {
    "code_folding": [
     0
    ]
   },
   "outputs": [
    {
     "data": {
      "application/vnd.jupyter.widget-view+json": {
       "model_id": "44bede9a903e4f4385d4a04bc6778eab",
       "version_major": 2,
       "version_minor": 0
      },
      "text/plain": [
       "Text(value='structures', description='Folder:', placeholder='structures')"
      ]
     },
     "metadata": {},
     "output_type": "display_data"
    }
   ],
   "source": [
    "# Sub-path to 'proteinP' data 'directory' \n",
    "\n",
    "proteinP = widgets.Text(\n",
    "    value='structures',\n",
    "    placeholder='structures',\n",
    "    description='Folder:',\n",
    "    disabled=False)\n",
    "\n",
    "display(proteinP)"
   ]
  },
  {
   "cell_type": "code",
   "execution_count": 12,
   "metadata": {
    "code_folding": [
     0
    ]
   },
   "outputs": [
    {
     "data": {
      "text/markdown": [
       "<span style='color:blue'>**Searching directory** for *.pdb files </span><span style='color:navy'>F:\\Business\\Clients\\Client4\\ACE2\\structures</span>"
      ],
      "text/plain": [
       "<IPython.core.display.Markdown object>"
      ]
     },
     "metadata": {},
     "output_type": "display_data"
    },
    {
     "data": {
      "application/vnd.jupyter.widget-view+json": {
       "model_id": "d3bee8afa8af4a59bc03333fbccfce7e",
       "version_major": 2,
       "version_minor": 0
      },
      "text/plain": [
       "Dropdown(description='Select:', options=('6m17.pdb', 'ACE2_fixed.pdb', 'ACE2_hel.pdb', 'RBD.pdb'), value='6m17…"
      ]
     },
     "metadata": {},
     "output_type": "display_data"
    }
   ],
   "source": [
    "# Select protein file (proteins, protein_pdb) \n",
    "\n",
    "proteins = Path(root_dir.value) / Path(proteinP.value)\n",
    "printwc(\n",
    "    \"**Searching directory** for *.pdb files \", proteins, c1=\"blue\", c2=\"navy\")\n",
    "\n",
    "a = Path(proteins).glob(\"*.pdb\")\n",
    "# print(a)\n",
    "\n",
    "result_files = []\n",
    "result_files += [each.name for each in a]\n",
    "# print(f\"\\nResult list \\n{result_files}\")\n",
    "\n",
    "protein_pdb = widgets.Dropdown(\n",
    "    options=result_files,\n",
    "    value=result_files[0],\n",
    "    description='Select:',\n",
    "    disabled=False,\n",
    ")\n",
    "display(protein_pdb)"
   ]
  },
  {
   "cell_type": "markdown",
   "metadata": {},
   "source": [
    "And now change to the project (custom) directory."
   ]
  },
  {
   "cell_type": "code",
   "execution_count": 13,
   "metadata": {},
   "outputs": [
    {
     "name": "stdout",
     "output_type": "stream",
     "text": [
      "F:\\Computation\\Chimera\\Scripts\n"
     ]
    }
   ],
   "source": [
    "%cd $cust_folder"
   ]
  },
  {
   "cell_type": "markdown",
   "metadata": {},
   "source": [
    "___\n",
    "<span style=\"font-size: large\" class='label label-success'>Enter variables of the Chimera script</span>"
   ]
  },
  {
   "cell_type": "code",
   "execution_count": 14,
   "metadata": {
    "code_folding": [
     0
    ]
   },
   "outputs": [
    {
     "data": {
      "application/vnd.jupyter.widget-view+json": {
       "model_id": "82f248ca18804d3d937fb0e3c2cc38c8",
       "version_major": 2,
       "version_minor": 0
      },
      "text/plain": [
       "Text(value='contact', description='Title:', placeholder='contact')"
      ]
     },
     "metadata": {},
     "output_type": "display_data"
    }
   ],
   "source": [
    "#E Enter custom suffix ('title') in the final .py script \n",
    "\n",
    "title = widgets.Text(\n",
    "    value='contact',\n",
    "    placeholder='contact',\n",
    "    description='Title:',\n",
    "    disabled=False)\n",
    "\n",
    "display(title)"
   ]
  },
  {
   "cell_type": "markdown",
   "metadata": {},
   "source": [
    "The following set of widgets allows selection and definition of residues, chains, and aliases for the best representation of the protein features. \n",
    "\n",
    "If the protein has multiple chains or segments, the script will split the model into sub-models. Selects those that you want to keep and those that can be closed. In order to identify sub-model IDs, `Open` the protein.pdb file in Chimera and in the Command line, type `split` and then press Enter. Inspect the sub-models and record their numbers (typically, 0.1, 0.2 .. 0.9). With the protein displayed, note what segments you want to focus on and residues that you can give aliases to. Also note the residues and ranges that can be deleted to achive better visual effect. If there are residues that make a contact and you wish to illustrate it, note those segments as `contacts1` and `contacts2`. "
   ]
  },
  {
   "cell_type": "markdown",
   "metadata": {},
   "source": [
    "<div class='alert alert-info'>\n",
    "<b>NOTE:</b> Any of the following information is optional. If residue ID is entered incorrectly, Chimera will ignore the entry.<br> <b>However, fill the fields for submodels that you want to keep and delete</b>.\n",
    "</div>"
   ]
  },
  {
   "cell_type": "code",
   "execution_count": 28,
   "metadata": {
    "code_folding": [
     0
    ]
   },
   "outputs": [
    {
     "data": {
      "application/vnd.jupyter.widget-view+json": {
       "model_id": "9645a7f56f1b4bf280ca7edb1e631623",
       "version_major": 2,
       "version_minor": 0
      },
      "text/plain": [
       "HBox(children=(VBox(children=(Text(value='0.4,0.6', description='<span style=\"color:green\"> Which submodels to…"
      ]
     },
     "metadata": {},
     "output_type": "display_data"
    },
    {
     "data": {
      "application/vnd.jupyter.widget-view+json": {
       "model_id": "236bab67c313467a829c6da0a59f0acb",
       "version_major": 2,
       "version_minor": 0
      },
      "text/plain": [
       "HBox(children=(VBox(children=(Checkbox(value=False, description='Merge the active models?', indent=False), Che…"
      ]
     },
     "metadata": {},
     "output_type": "display_data"
    },
    {
     "data": {
      "application/vnd.jupyter.widget-view+json": {
       "model_id": "cfda1e4d2b664abfba358ea34ee04bd3",
       "version_major": 2,
       "version_minor": 0
      },
      "text/plain": [
       "HBox(children=(VBox(children=(Dropdown(description='Label color:', index=1, layout=Layout(width='200px'), opti…"
      ]
     },
     "metadata": {},
     "output_type": "display_data"
    }
   ],
   "source": [
    "# Select and highlight features? \n",
    "\n",
    "subK = widgets.Text(\n",
    "    value='0.4,0.6',\n",
    "    placeholder='0.4,0.6',\n",
    "    description='<span style=\"color:green\"> Which submodels to keep?</span>',\n",
    "    layout=Layout(width='250px'),\n",
    "    disabled=False)\n",
    "\n",
    "subC = widgets.Text(\n",
    "    value='0.1-3,0.5',\n",
    "    placeholder='0.1-3,0.5',\n",
    "    description='<span style=\"color:red\"> Which submodels to close?</span>',\n",
    "    layout=Layout(width='250px'),\n",
    "    disabled=False)\n",
    "\n",
    "mergeM = widgets.Checkbox(\n",
    "    value=False,\n",
    "    description='Merge the active models?',\n",
    "    disabled=False,\n",
    "    indent=False)\n",
    "\n",
    "contactA = widgets.Checkbox(\n",
    "    value=False,\n",
    "    description='Show the contact area?',\n",
    "    disabled=False,\n",
    "    indent=False)\n",
    "\n",
    "intS = widgets.Checkbox(\n",
    "    value=False,\n",
    "    description='Show interaction surface?',\n",
    "    disabled=False,\n",
    "    indent=False)\n",
    "\n",
    "alias1L = widgets.Dropdown(\n",
    "    options=['helix1', 'strand1', 'segment1'],\n",
    "    value='helix1',\n",
    "    description=' Alias1:',\n",
    "    layout=Layout(width='150px'),\n",
    "    disabled=False,\n",
    ")\n",
    "\n",
    "alias1 = widgets.Text(\n",
    "    value='0.4:21-52.D',\n",
    "    placeholder='0.4:21-52.D',\n",
    "    description='Select res1',\n",
    "    layout=Layout(width='350px'),\n",
    "    indent=True,\n",
    "    disabled=False)\n",
    "\n",
    "alias2L = widgets.Dropdown(\n",
    "    options=['helix2', 'strand2', 'segment2'],\n",
    "    value='helix2',\n",
    "    description=' Alias2:',\n",
    "    layout=Layout(width='150px'),\n",
    "    disabled=False,\n",
    ")\n",
    "\n",
    "alias2 = widgets.Text(\n",
    "    value='0.4:58-89.D',\n",
    "    placeholder='0.4:58-89.D',\n",
    "    description='Select res2',\n",
    "    layout=Layout(width='350px'),\n",
    "    indent=True,\n",
    "    disabled=False)\n",
    "\n",
    "alias3 = widgets.Text(\n",
    "    value='0.4:24.D,27.D,30.D,31.D,34.D,35.D,37.D,38.D,41.D,45.D',\n",
    "    placeholder='0.4:24.D,27.D,30.D,31.D,34.D,35.D,37.D,38.D,41.D,45.D',\n",
    "    description='contacts1',\n",
    "    layout=Layout(width='350px'),\n",
    "    indent=True,\n",
    "    disabled=False)\n",
    "\n",
    "alias4 = widgets.Text(\n",
    "    value=\n",
    "    '0.6:449.F,453.F,455.F,456.F,475.F,476.F,487.F,489.F,493.F,496.F,498.F,500.F,501.F',\n",
    "    placeholder=\n",
    "    '0.6:449.F,453.F,455.F,456.F,475.F,476.F,487.F,489.F,493.F,496.F,498.F,500.F,501.F',\n",
    "    description='contacts2',\n",
    "    layout=Layout(width='350px'),\n",
    "    indent=True,\n",
    "    disabled=False)\n",
    "\n",
    "delC = widgets.Text(\n",
    "    value='0.4:90-323.D,362-767.D',\n",
    "    placeholder='0.4:90-323.D,362-767.D',\n",
    "    description=\n",
    "    '<span style=\"color:darkred\">Delete part(s) of the retained chain?</span>',\n",
    "    layout=Layout(width='400px'),\n",
    "    indent=True,\n",
    "    disabled=False)\n",
    "\n",
    "resP = widgets.Checkbox(\n",
    "    value=False,\n",
    "    description='Highlite sc residue(s)?',\n",
    "    disabled=False,\n",
    "    indent=False)\n",
    "\n",
    "resP_id = widgets.Text(\n",
    "    value=':34',\n",
    "    placeholder=':34',\n",
    "    description='res ID:',\n",
    "    disabled=False,\n",
    "    layout=Layout(width='200px'))\n",
    "\n",
    "labcol = widgets.Dropdown(\n",
    "    options=['black', 'gold', 'blue', 'hot pink'],\n",
    "    value='gold',\n",
    "    description='Label color:',\n",
    "    layout=Layout(width='200px'),\n",
    "    disabled=False,\n",
    ")\n",
    "\n",
    "rmlab = widgets.Checkbox(\n",
    "    value=False,\n",
    "    description='Remove all labels?',\n",
    "    disabled=False,\n",
    "    indent=False)\n",
    "\n",
    "left_box = VBox([subK, subC])\n",
    "mid_box = VBox([alias1L, alias1])\n",
    "right_box = VBox([alias2L, alias2])\n",
    "right_box2 = VBox([alias3, alias4])\n",
    "display(HBox([left_box, mid_box, right_box]), layout=Layout(width='100%'))\n",
    "\n",
    "left_box2 = VBox([mergeM, contactA])\n",
    "left_box3 = VBox([labcol, rmlab])\n",
    "\n",
    "display(HBox([left_box2, VBox([intS, delC])]))\n",
    "display(HBox([left_box3, VBox([resP, resP_id]), right_box2]))"
   ]
  },
  {
   "cell_type": "markdown",
   "metadata": {},
   "source": [
    "Since it is quite complex to script every detail of the visualization, model-specific parameters, such as orientation or zoom are placed into a plain text file. Inspect the file and select its name below."
   ]
  },
  {
   "cell_type": "code",
   "execution_count": 23,
   "metadata": {},
   "outputs": [
    {
     "data": {
      "image/png": "[encoded data removed]",
      "text/plain": [
       "<IPython.core.display.Image object>"
      ]
     },
     "execution_count": 23,
     "metadata": {},
     "output_type": "execute_result"
    }
   ],
   "source": [
    "Image(filename=start_folder + '/imgs/chimera-append.png')"
   ]
  },
  {
   "cell_type": "code",
   "execution_count": 24,
   "metadata": {
    "code_folding": [
     0
    ]
   },
   "outputs": [
    {
     "data": {
      "text/markdown": [
       "<span style='color:blue'>**Searching directory** for customized *.txt files </span><span style='color:navy'>F:\\Computation\\Chimera\\Scripts</span>"
      ],
      "text/plain": [
       "<IPython.core.display.Markdown object>"
      ]
     },
     "metadata": {},
     "output_type": "display_data"
    },
    {
     "data": {
      "application/vnd.jupyter.widget-view+json": {
       "model_id": "03220ff767bd425bbf66c0c7f9a0cff9",
       "version_major": 2,
       "version_minor": 0
      },
      "text/plain": [
       "Dropdown(description='Select:', options=('APPEND_protein.txt', 'APPEND_surf_bind_site_lig.txt', 'APPEND_surf_b…"
      ]
     },
     "metadata": {},
     "output_type": "display_data"
    }
   ],
   "source": [
    "# Select the name of customized (and appended) part of the scripts (cust_txt) \n",
    "\n",
    "cust_part = Path(cust_folder)\n",
    "printwc(\n",
    "    \"**Searching directory** for customized *.txt files \",\n",
    "    cust_part,\n",
    "    c1=\"blue\",\n",
    "    c2=\"navy\")\n",
    "\n",
    "b = Path(cust_part).glob(\"*.txt\")\n",
    "# print(b)\n",
    "\n",
    "result_files = []\n",
    "result_files += [each.name for each in b]\n",
    "\n",
    "cust_txt = widgets.Dropdown(\n",
    "    options=result_files,\n",
    "    value=result_files[0],\n",
    "    description='Select:',\n",
    "    disabled=False,\n",
    ")\n",
    "display(cust_txt)"
   ]
  },
  {
   "cell_type": "markdown",
   "metadata": {},
   "source": [
    "<span style=\"font-size: large\" class='label label-info'>Build the script</span>"
   ]
  },
  {
   "cell_type": "code",
   "execution_count": 25,
   "metadata": {
    "code_folding": [
     0
    ]
   },
   "outputs": [],
   "source": [
    "# Create variables for filenames in the scipt \n",
    "\n",
    "in1 = Path(protein_pdb.value).stem + \"_\" + str(title.value) + \".py\"\n",
    "in2 = cust_txt.value\n",
    "out = Path(protein_pdb.value).stem + \"_\" + str(title.value) + \"_Run.py\""
   ]
  },
  {
   "cell_type": "code",
   "execution_count": 26,
   "metadata": {
    "code_folding": [
     0
    ]
   },
   "outputs": [
    {
     "name": "stdout",
     "output_type": "stream",
     "text": [
      "# Script description\n",
      "# __Author__    Marcel Patek\n",
      "# __Date__      2020-04-25\n",
      "# The script `6m17_contact_Run.py` generates details of one sub-unit of Cov-2/ACE2 complex and possible interaction sites.\n",
      "# The `6m17.pdb` file complex is split in Chimera and fragments F, D are kept as sub-models.\n",
      "# This autogenerated script appends file: APPEND_protein.txt\n",
      "# Run in Chimera from the Command line as: >run 6m17_contact_Run.py\n",
      "\n",
      "\n"
     ]
    }
   ],
   "source": [
    "#E Enter a meaningfull description of the script file (-> describe) \n",
    "\n",
    "# Time stamp\n",
    "today = datetime.date.today()\n",
    "\n",
    "describe = \"# Script description\" + \"\\n\" \\\n",
    "    \"# __Author__    Marcel Patek\" + \"\\n\" \\\n",
    "    \"# __Date__      \" + str(today) + \"\\n\" \\\n",
    "    \"# The script `\"+out+\"` generates details of one subunit of Cov-2/ACE2 complex and \" \\\n",
    "    \"possible interaction sites.\" + \"\\n\" \\\n",
    "    \"# The `\" + protein_pdb.value +\"` file complex is split in Chimera and fragments F, D are kept \" \\\n",
    "    \"as sub-models.\" + \"\\n\" \\\n",
    "    \"# This autogenerated script appends file: \" + in2 + \"\\n\" \\\n",
    "    \"# Run in Chimera from the Command line as: >run \"+ out + \"\\n\\n\"\n",
    "\n",
    "print(describe, sep='\\n')"
   ]
  },
  {
   "cell_type": "code",
   "execution_count": 73,
   "metadata": {
    "code_folding": [
     0
    ]
   },
   "outputs": [],
   "source": [
    "# Chimera commands for opening files, protein prep, and options \n",
    "\n",
    "# general imports and initialization\n",
    "a = \"import os\" +\"\\n\" \\\n",
    "\"from chimera import runCommand as rc # use 'rc' as shorthand for runCommand\"+ \"\\n\" \\\n",
    "\"from chimera import replyobj # for emitting status messages\" + \"\\n\\n\"\n",
    "\n",
    "# Set the path to project 'root' directory\n",
    "b = \"# Set the parent folder of data files with '/' at the end\" + \"\\n\" \\\n",
    "\"os.chdir('\" + str(root_dir.value) + \"')\" + \"\\n\\n\"\n",
    "\n",
    "# Load the protein and get the base name for image output\n",
    "c = \"# Load the protein and get the base name for image output\" + \"\\n\" \\\n",
    "+ \"protein = '\" + str(proteins / protein_pdb.value).replace('\\\\','/') + \"'\\n\" \\\n",
    "+ \"file = os.path.split(protein)[1]\\n\" \\\n",
    "+ \"base = file[:-4]\\n\"\n",
    "\n",
    "# Set general options\n",
    "d = \"#___ Options\" + \"\\n\" \\\n",
    "\"#rc('preset apply pub 1') #  a publication preset including white backg, black outlines, and increased smoothness\" + \"\\n\" \\\n",
    "\"# Labels\" + \"\\n\" \\\n",
    "\"rc('labelopt resinfo %(1-letter code)s%(number)s')\" +\"\\n\" \\\n",
    "\"# Enable keyboard shortcuts\" + \"\\n\" \\\n",
    "\"rc('ac')\" + \"\\n\" \\\n",
    "\"# Set rendering\" + \"\\n\" \\\n",
    "\"rc('represent wire #0') # show protein as wire\" + \"\\n\" \\\n",
    "\"# Custom colors\" + \"\\n\" \\\n",
    "\"rc('colordef goldie 1 0.762 0 1')\" + \"\\n\" \\\n",
    "\"rc('colordef bluish 0.381 0.619 1 1')\" + \"\\n\" \\\n",
    "\"rc('colordef labels 1 0 0.762 1')\" + \"\\n\" \\\n",
    "\"# Open clipping panel and Distance panel\" + \"\\n\" \\\n",
    "\"rc('start Side View')\" + \"\\n\" \\\n",
    "\"#rc('start Distances')\" + \"\\n\" \\\n",
    "\"#_____________________________________________________\" + \"\\n\\n\"\n",
    "\n",
    "# Load the protein and ligand\n",
    "e = \"# Load the protein to Chimera\" + \"\\n\" \\\n",
    "\"rc('open ' + protein) # as model #0\" + \"\\n\" \\\n",
    "\"rc('preset apply interactive 1') # change later by keyboard c2\"  + \"\\n\\n\"\n",
    "\n",
    "# Clean up the protein\n",
    "f = \"# Clean up the protein\" + \"\\n\" \\\n",
    "\"rc('~longbond') # remove dashed lines in discontinued protein segments\" + \"\\n\" \\\n",
    "\"rc('delete solvent')\" + \"\\n\" \\\n",
    "\"rc('~display ions')\" + \"\\n\" \\\n",
    "\"rc('~show ::NAG') # hide suggars\" + \"\\n\" \\\n",
    "\"rc('~display #0') # hide any side-chain residues\" + \"\\n\" \\\n",
    "\"rc('del @ZN') # Delete Zinc atoms (if any)\" + \"\\n\\n\""
   ]
  },
  {
   "cell_type": "code",
   "execution_count": 74,
   "metadata": {
    "code_folding": [
     0
    ]
   },
   "outputs": [],
   "source": [
    "# Commands for rendering ligand+protein \n",
    "\n",
    "g = \"# Split the model to sub-models and close those that are not needed\" + \"\\n\" \\\n",
    "\"rc('split')\" + \"\\n\" \\\n",
    "\"rc('close #\" + str(subC.value).replace(\" \",\"\") + \"') # close sub-models\" + \"\\n\" \\\n",
    "\"rc('del #\" + str(delC.value).replace(\" \",\"\") + \"') # delete part of the kept chain\" + \"\\n\" \\\n",
    "\"rc('~show ::NAG') # hide suggars (if any)\" + \"\\n\\n\"\n",
    "\n",
    "h = \"# Make aliases and color segments\" + \"\\n\" \\\n",
    "\"rc('alias \" + str(alias1L.value) + \" #\" +  str(alias1.value).replace(\" \",\"\") + \"')\" + \"\\n\" \\\n",
    "\"rc('alias \" + str(alias2L.value) + \" #\" +  str(alias2.value).replace(\" \",\"\") + \"')\" + \"\\n\" \\\n",
    "\"rc('alias contacts1 #\" +  str(alias3.value).replace(\" \",\"\") + \"')\" + \"\\n\" \\\n",
    "\"rc('alias contacts2 #\" +  str(alias4.value).replace(\" \",\"\") + \"')\" + \"\\n\" \\\n",
    "\"rc('color goldie \" + str(alias1L.value) + \"')\" + \"\\n\" \\\n",
    "\"rc('color bluish \" + str(alias2L.value) + \"')\" + \"\\n\" \\\n",
    "\"rc('color gray coil')\" + \"\\n\\n\"\n",
    "\n",
    "# This segments stays with no variables\n",
    "i = \"# Render residues\" + \"\\n\" \\\n",
    "\"rc('select contacts1 | contacts2')\" + \"\\n\" \\\n",
    "\"rc('display sel')\" + \"\\n\" \\\n",
    "\"rc('repr wire sel')\" + \"\\n\" \\\n",
    "\"rc('color byelement sel')\" + \"\\n\" \\\n",
    "\"rc('~select')\" + \"\\n\" \\\n",
    "\"rc('rlabel contacts1 | contacts2')\" + \"\\n\" \\\n",
    "\"rc('color labels,lr')\" + \"\\n\" \\\n",
    "\"# rc('~display ~ :B') # hide residue bonds?\" + \"\\n\" \\\n",
    "\"# Set protein rendering to wire\" + \"\\n\" \\\n",
    "\"rc('represent wire protein')\" + \"\\n\" \\\n",
    "\"# Change Label color globally\" + \"\\n\" \\\n",
    "\"rc('color \" + str(labcol.value) +\",l protein')\" + \"\\n\\n\"\n",
    "\n",
    "# Merge the submodels for interactions?\n",
    "if mergeM.value == True:\n",
    "    j = \"# Optional - Merge the sub-models to allow display of interactions\" + \"\\n\" \\\n",
    "\"rc('select #\" + str(subK.value).replace(\" \",\"\").split(\",\")[0]+\" #\"+str(subK.value).replace(\" \",\"\").split(\",\")[1]+ \"')\" + \"\\n\" \\\n",
    "\"rc('combine sel refSpec #\"+ str(subK.value).replace(\" \",\"\").split(\",\")[1] + \" modelID #1 newchainids 0 name mergedDF')\" + \"\\n\" \\\n",
    "\"rc('~select')\" + \"\\n\" \\\n",
    "\"rc('alias contacts1 #1\" +  str(alias3.value).replace(\" \",\"\")[3:] + \"')\" + \"\\n\" \\\n",
    "\"rc('alias contacts2 #1\" +  str(alias4.value).replace(\" \",\"\")[3:] + \"')\" + \"\\n\" \\\n",
    "\"rc('~surface') # remove surfaces if displayed\" + \"\\n\"\n",
    "else:\n",
    "    j = \"\"\n",
    "\n",
    "# Display contact areas?\n",
    "if contactA.value == True:\n",
    "    k = \"# Optional - generate contact area of protein chains\" + \"\\n\" \\\n",
    "\"rc('measure buriedArea  #\" + str(subK.value).replace(\" \",\"\").split(\",\")[0]+\" #\"+str(subK.value).replace(\" \",\"\").split(\",\")[1]+ \"')\" + \"\\n\" \\\n",
    "\"rc('color yellow  #\" +str(subK.value).replace(\" \",\"\").split(\",\")[0] + \"@/buriedSESArea>1')\" + \"\\n\" \\\n",
    "\"rc('color hot pink  #\" + str(subK.value).replace(\" \",\"\").split(\",\")[1] + \"@/buriedSESArea>1')\" + \"\\n\" \\\n",
    "\"rc('surface')\" + \"\\n\" \\\n",
    "\"rc('~surface #0.4') # hide one of the surfaces\" + \"\\n\"\n",
    "else:\n",
    "    k = \"\"\n",
    "\n",
    "# Interface surface\n",
    "if intS.value == True:\n",
    "    l = \"# Generate Interface surface\" \"\\n\" \\\n",
    "\"rc('~surface')\" + \"\\n\" \\\n",
    "\"rc('represent wire #\" + str(subK.value).replace(\" \",\"\").split(\",\")[0]+\" #\" + str(subK.value).replace(\" \",\"\").split(\",\")[1]+\"')\" + \"\\n\" \\\n",
    "\"rc('intersurf #\" + str(subK.value).replace(\" \",\"\").split(\",\")[0]+\" #\" + str(subK.value).replace(\" \",\"\").split(\",\")[1]+\" select true prune 10')\" + \"\\n\" \\\n",
    "\"rc('repr bs sel')\" + \"\\n\" \\\n",
    "\"rc('color byelement sel')\" + \"\\n\" \\\n",
    "\"rc('setattr m stickScale 0.5 sel')\" + \"\\n\" \\\n",
    "\"rc('setattr m ballScale 0.15')\" + \"\\n\" \\\n",
    "\"rc('~select')\" + \"\\n\"\n",
    "else:\n",
    "    l = \"\"\n",
    "\n",
    "# Highlight specific protein residues?\n",
    "if resP.value == True:\n",
    "    m = \"# Feature highlight\" + \"\\n\" \\\n",
    "\"rc('select #\"+ str(resP_id.value).replace(\" \",\"\").split(\",\")[0] +\"') # or a range of residues,e.g, :248-250\" + \"\\n\" \\\n",
    "\"rc('display sel')\" + \"\\n\" \\\n",
    "\"rc('repr wire sel') # or repr bs sel\" + \"\\n\" \\\n",
    "\"rc('rlabel sel')\" + \"\\n\" \\\n",
    "\"rc('represent bs sel')\" + \"\\n\" \\\n",
    "\"rc('setattr m stickScale 0.52 sel')\" + \"\\n\" \\\n",
    "\"rc('setattr m ballScale 0.1')\" + \"\\n\" \\\n",
    "\"rc('color red,a sel')    # colors residue but not surface\" + \"\\n\" \\\n",
    "\"rc('~display HC')\" + \"\\n\" \\\n",
    "\"rc('~select')\" + \"\\n\\n\"\n",
    "else:\n",
    "    m = \"\"\n",
    "\n",
    "n = \"\"\n",
    "\n",
    "# Remove all label for publication?\n",
    "if rmlab.value == True:\n",
    "    o = \"\\nrc('~rlabel') # remove all labels\" + \"\\n\"\n",
    "else:\n",
    "    o = \"\\n\\n\""
   ]
  },
  {
   "cell_type": "code",
   "execution_count": 75,
   "metadata": {
    "code_folding": [
     0
    ]
   },
   "outputs": [
    {
     "data": {
      "text/markdown": [
       "<span style='color:green'>**The script file was created:** </span><span style='color:navy'>F:/Computation/Chimera/Scripts/6m17_contact.py</span>"
      ],
      "text/plain": [
       "<IPython.core.display.Markdown object>"
      ]
     },
     "metadata": {},
     "output_type": "display_data"
    }
   ],
   "source": [
    "# Generate and save Chimera initialization script \n",
    "\n",
    "lines_of_text = [a, describe, b, c, d, e, f, g, h, i, j, k, l, m, n, o]\n",
    "\n",
    "try:\n",
    "    fh = open(cust_dir + \"/\" + Path(protein_pdb.value).stem + \"_\" +\n",
    "              title.value + \".py\", \"w\")\n",
    "    lines_of_text\n",
    "    fh.writelines(lines_of_text)\n",
    "    fh.close()\n",
    "    printwc(\n",
    "        \"**The script file was created:** \",\n",
    "        cust_dir + \"/\" + Path(protein_pdb.value).stem + \"_\" + title.value +\n",
    "        \".py\",\n",
    "        c1=\"green\",\n",
    "        c2='navy')\n",
    "except:\n",
    "    printc(\"**The script generation failed**.\", color=\"red\")"
   ]
  },
  {
   "cell_type": "markdown",
   "metadata": {
    "variables": {
     "scr_name": "6m17_contact_Run.py"
    }
   },
   "source": [
    "___\n",
    "Use `cat` in `bash magic` to concatenate the customized script file to the initialization script. Also removes the auxiliary <span style=\"color:rgba(255,100,0,1)\"><b>{{scr_name}}</b></span> file.\n",
    "\n",
    "On Windows it only runs with `Git bash` installed and set in `PATH` in Environmet variables like ` e:\\Program Files\\Git\\cmd `."
   ]
  },
  {
   "cell_type": "code",
   "execution_count": 76,
   "metadata": {
    "code_folding": []
   },
   "outputs": [
    {
     "name": "stdout",
     "output_type": "stream",
     "text": [
      "Show 'Run' files in Script directory:\n",
      "\n",
      "\u001b[0m\u001b[01;32m6m17_contact_Run.py\u001b[0m\n",
      "\u001b[01;32m6m17_ace_Run.py\u001b[0m\n",
      "\u001b[01;32mMSN_present_Run.py\u001b[0m\n"
     ]
    }
   ],
   "source": [
    "%%bash -s \"$in1\" \"$in2\" \"$out\" \n",
    "cat $1 $2 > $3\n",
    "rm $1\n",
    "rm *.pyc\n",
    "echo \"Show 'Run' files in Script directory:\"\n",
    "echo\n",
    "ls --sort=time --color | grep \"Run\""
   ]
  },
  {
   "cell_type": "markdown",
   "metadata": {
    "variables": {
     "scr_name": "MSN_present_.py"
    }
   },
   "source": [
    "**Run the script file from Chimera GUI**\n",
    "\n",
    "+  From File -> Open -> {{scr_name}}\n",
    "+  From Command prompt in Chimera as: run {{scr_name}}"
   ]
  },
  {
   "cell_type": "markdown",
   "metadata": {},
   "source": [
    "### End of the notebook\n",
    "_____\n",
    "\n",
    "<span style=\"font-size: 12px\"><i>Jupyter Notebook **Chimera-protein.ipynb**:<br>\n",
    "version 1.0 created on April 17, 2020<br>\n",
    "</i></span>"
   ]
  }
 ],
 "metadata": {
  "anaconda-cloud": {},
  "codeCellConfig": {
   "lineWrap": "on"
  },
  "kernelspec": {
   "display_name": "Python [conda env:main] *",
   "language": "python",
   "name": "conda-env-main-py"
  },
  "language_info": {
   "codemirror_mode": {
    "name": "ipython",
    "version": 3
   },
   "file_extension": ".py",
   "mimetype": "text/x-python",
   "name": "python",
   "nbconvert_exporter": "python",
   "pygments_lexer": "ipython3",
   "version": "3.6.5"
  },
  "latex_envs": {
   "LaTeX_envs_menu_present": true,
   "autoclose": false,
   "autocomplete": true,
   "bibliofile": "biblio.bib",
   "cite_by": "apalike",
   "current_citInitial": 1,
   "eqLabelWithNumbers": true,
   "eqNumInitial": 1,
   "hotkeys": {
    "equation": "Ctrl-E",
    "itemize": "Ctrl-I"
   },
   "labels_anchors": false,
   "latex_user_defs": false,
   "report_style_numbering": false,
   "user_envs_cfg": false
  }
 },
 "nbformat": 4,
 "nbformat_minor": 2
}
